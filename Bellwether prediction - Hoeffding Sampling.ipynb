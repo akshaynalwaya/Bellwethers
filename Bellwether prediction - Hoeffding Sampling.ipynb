{
 "cells": [
  {
   "cell_type": "code",
   "execution_count": 2,
   "metadata": {},
   "outputs": [],
   "source": [
    "import os, random\n",
    "import numpy as np\n",
    "import pandas as pd\n",
    "from sklearn.ensemble import RandomForestClassifier\n",
    "from sklearn.datasets import make_classification\n",
    "from sklearn.model_selection import train_test_split\n",
    "from sklearn import metrics\n",
    "from sklearn.metrics import confusion_matrix\n",
    "\n",
    "random.seed(10)\n"
   ]
  },
  {
   "cell_type": "code",
   "execution_count": 3,
   "metadata": {},
   "outputs": [],
   "source": [
    "os.getcwd()\n",
    "data_path = \"/defects/src/data/Jureczko/collated_data/\"\n",
    "os.chdir(os.getcwd() + data_path)"
   ]
  },
  {
   "cell_type": "code",
   "execution_count": 5,
   "metadata": {},
   "outputs": [
    {
     "name": "stdout",
     "output_type": "stream",
     "text": [
      "Files: ['ant_merged.csv', 'camel_merged.csv', 'ivy_merged.csv', 'jedit_merged.csv', 'log4j_merged.csv', 'lucene_merged.csv', 'poi_merged.csv', 'velocity_merged.csv', 'xalan_merged.csv', 'xerces_merged.csv']\n",
      "List of projects: ['ant', 'camel', 'ivy', 'jedit', 'log4j', 'lucene', 'poi', 'velocity', 'xalan', 'xerces']\n"
     ]
    }
   ],
   "source": [
    "projList = os.listdir()\n",
    "print(\"Files:\",projList)\n",
    "projs = [p.split('_')[0] for p in projList]\n",
    "print(\"List of projects:\",projs)"
   ]
  },
  {
   "cell_type": "code",
   "execution_count": 38,
   "metadata": {
    "scrolled": true
   },
   "outputs": [
    {
     "data": {
      "text/plain": [
       "100"
      ]
     },
     "execution_count": 38,
     "metadata": {},
     "output_type": "execute_result"
    }
   ],
   "source": [
    "df_n = pd.read_csv(\"..//samplingResults_n.csv\")\n",
    "fractions = []\n",
    "for i in range(10):\n",
    "    for j in range(10):\n",
    "        fractions.append(df_n.iloc[i][j+1]/100)\n",
    "len(fractions)"
   ]
  },
  {
   "cell_type": "code",
   "execution_count": 39,
   "metadata": {
    "scrolled": true
   },
   "outputs": [
    {
     "name": "stdout",
     "output_type": "stream",
     "text": [
      "\n",
      "Iteration  0\n",
      "Model trained on ant , tesing on camel\n",
      "Model trained on ant , tesing on ivy\n",
      "Model trained on ant , tesing on jedit\n",
      "Model trained on ant , tesing on log4j\n",
      "Model trained on ant , tesing on lucene\n",
      "Model trained on ant , tesing on poi\n",
      "Model trained on ant , tesing on velocity\n",
      "Model trained on ant , tesing on xalan\n",
      "Model trained on ant , tesing on xerces\n",
      "\n",
      "Iteration  1\n",
      "Model trained on camel , tesing on ant\n",
      "Model trained on camel , tesing on ivy\n",
      "Model trained on camel , tesing on jedit\n",
      "Model trained on camel , tesing on log4j\n",
      "Model trained on camel , tesing on lucene\n",
      "Model trained on camel , tesing on poi\n",
      "Model trained on camel , tesing on velocity\n",
      "Model trained on camel , tesing on xalan\n",
      "Model trained on camel , tesing on xerces\n",
      "\n",
      "Iteration  2\n",
      "Model trained on ivy , tesing on ant\n",
      "Model trained on ivy , tesing on camel\n",
      "Model trained on ivy , tesing on jedit\n",
      "Model trained on ivy , tesing on log4j\n",
      "Model trained on ivy , tesing on lucene\n",
      "Model trained on ivy , tesing on poi\n",
      "Model trained on ivy , tesing on velocity\n",
      "Model trained on ivy , tesing on xalan\n",
      "Model trained on ivy , tesing on xerces\n",
      "\n",
      "Iteration  3\n",
      "Model trained on jedit , tesing on ant\n",
      "Model trained on jedit , tesing on camel\n",
      "Model trained on jedit , tesing on ivy\n",
      "Model trained on jedit , tesing on log4j\n",
      "Model trained on jedit , tesing on lucene\n",
      "Model trained on jedit , tesing on poi\n",
      "Model trained on jedit , tesing on velocity\n",
      "Model trained on jedit , tesing on xalan\n",
      "Model trained on jedit , tesing on xerces\n",
      "\n",
      "Iteration  4\n",
      "Model trained on log4j , tesing on ant\n",
      "Model trained on log4j , tesing on camel\n",
      "Model trained on log4j , tesing on ivy\n",
      "Model trained on log4j , tesing on jedit\n",
      "Model trained on log4j , tesing on lucene\n",
      "Model trained on log4j , tesing on poi\n",
      "Model trained on log4j , tesing on velocity\n",
      "Model trained on log4j , tesing on xalan\n",
      "Model trained on log4j , tesing on xerces\n",
      "\n",
      "Iteration  5\n",
      "Model trained on lucene , tesing on ant\n",
      "Model trained on lucene , tesing on camel\n",
      "Model trained on lucene , tesing on ivy\n",
      "Model trained on lucene , tesing on jedit\n",
      "Model trained on lucene , tesing on log4j\n",
      "Model trained on lucene , tesing on poi\n",
      "Model trained on lucene , tesing on velocity\n",
      "Model trained on lucene , tesing on xalan\n",
      "Model trained on lucene , tesing on xerces\n",
      "\n",
      "Iteration  6\n",
      "Model trained on poi , tesing on ant\n",
      "Model trained on poi , tesing on camel\n",
      "Model trained on poi , tesing on ivy\n",
      "Model trained on poi , tesing on jedit\n",
      "Model trained on poi , tesing on log4j\n",
      "Model trained on poi , tesing on lucene\n",
      "Model trained on poi , tesing on velocity\n",
      "Model trained on poi , tesing on xalan\n",
      "Model trained on poi , tesing on xerces\n",
      "\n",
      "Iteration  7\n",
      "Model trained on velocity , tesing on ant\n",
      "Model trained on velocity , tesing on camel\n",
      "Model trained on velocity , tesing on ivy\n",
      "Model trained on velocity , tesing on jedit\n",
      "Model trained on velocity , tesing on log4j\n",
      "Model trained on velocity , tesing on lucene\n",
      "Model trained on velocity , tesing on poi\n",
      "Model trained on velocity , tesing on xalan\n",
      "Model trained on velocity , tesing on xerces\n",
      "\n",
      "Iteration  8\n",
      "Model trained on xalan , tesing on ant\n",
      "Model trained on xalan , tesing on camel\n",
      "Model trained on xalan , tesing on ivy\n",
      "Model trained on xalan , tesing on jedit\n",
      "Model trained on xalan , tesing on log4j\n",
      "Model trained on xalan , tesing on lucene\n",
      "Model trained on xalan , tesing on poi\n",
      "Model trained on xalan , tesing on velocity\n",
      "Model trained on xalan , tesing on xerces\n",
      "\n",
      "Iteration  9\n",
      "Model trained on xerces , tesing on ant\n",
      "Model trained on xerces , tesing on camel\n",
      "Model trained on xerces , tesing on ivy\n",
      "Model trained on xerces , tesing on jedit\n",
      "Model trained on xerces , tesing on log4j\n",
      "Model trained on xerces , tesing on lucene\n",
      "Model trained on xerces , tesing on poi\n",
      "Model trained on xerces , tesing on velocity\n",
      "Model trained on xerces , tesing on xalan\n",
      "[[0, 0.10122600607636052, 0.385595567867036, 0.582279441303602, 0.10905926713719424, 0.18237674940264298, 0.1391908194317731, 0.09339115622950338, 0.2545200156930218, 0.21701264955312524], [0.3981176059846746, 0, 0.37542131190044076, 0.5054551958504739, 0.2424419881414245, 0.22867756315007426, 0.202407723286922, 0.17786255901568984, 0.25937315027357905, 0.24607824607824605], [0.20930205515027947, 0.03495525503590626, 0, 0.2766547663517063, 0.037732062217762166, 0.12399014715454416, 0.07091098692478408, 0.04785089160369187, 0.14735133959565372, 0.16252141704198178], [0.1577444682369736, 0.03839275312579699, 0.11102559168751203, 0, 0.007662835249042145, 0.00909090909090909, 0.025139193169476933, 0.016216216216216214, 0.06220846949441995, 0.02117934783442549], [0.25738018172600713, 0.3380415597384953, 0.22781153772787965, 0.23689656237452508, 0, 0.3550899051394591, 0.301105657289117, 0.35405531441690286, 0.38040996168026875, 0.4584003366656169], [0.46225775566255967, 0.5168057714656564, 0.5337954939341422, 0.4836321625776638, 0.6379137412236711, 0, 0.5753530166880616, 0.5591066615325375, 0.4540774500810025, 0.5602004549038386], [0.6455076303123018, 0.5701652379245525, 0.649033413283521, 0.617694371838148, 0.62124248496994, 0.624541120751166, 0, 0.5139445445499287, 0.5465370863116005, 0.5424315190569483], [0.5503137542022363, 0.5029883112843634, 0.4588716483801857, 0.4479355306048533, 0.5124291321412997, 0.45426974092885597, 0.4029078363725973, 0, 0.4885442538996533, 0.5284816317504062], [0.6028985507246376, 0.5269732430930045, 0.5876433890118736, 0.4667295841891967, 0.5833520305137985, 0.5782491567246961, 0.59027171263972, 0.5389583236537657, 0, 0.5676572753888698], [0.4142477945486245, 0.3491945007005672, 0.42960288808664254, 0.3927497435050768, 0.5264905983821717, 0.525200576013166, 0.4654503663266772, 0.4864065168354628, 0.4045227192360128, 0]]\n"
     ]
    }
   ],
   "source": [
    "tbl = [[0]*len(projs) for p in projs]\n",
    "count=-1\n",
    "for i in range(len(projs)):\n",
    "    print(\"\\nIteration \",i)\n",
    "    trainData = pd.read_csv(projList[i])\n",
    "    \n",
    "    for j in range(len(projs)):\n",
    "        count+=1\n",
    "        if (i != j):\n",
    "            #print(\"Here: \",float(df_n.iloc[i][j+1]/100))\n",
    "            trainData.sample(frac=fractions[count])\n",
    "            X_train = trainData.loc[:,trainData.columns!='$<bug']\n",
    "            y_train = trainData.loc[:,trainData.columns=='$<bug']\n",
    "            \n",
    "            testData = pd.read_csv(projList[j])\n",
    "            X_test = testData.loc[:, testData.columns!='$<bug']\n",
    "            y_test = testData.loc[:, testData.columns=='$<bug']\n",
    "            clf = RandomForestClassifier(n_estimators=1000, n_jobs=1)\n",
    "            clf.fit(X_train, y_train.values.ravel())\n",
    "            y_pred = clf.predict(X_test)\n",
    "            cm = confusion_matrix(y_test, y_pred)\n",
    "            recall = cm[1][1]/(cm[1][1] + cm[1][0])\n",
    "            pf = cm[0][1]/(cm[0][1] + cm[0][0])\n",
    "            \n",
    "            g = 2/((1/recall) + (1/(1-pf)))\n",
    "            \n",
    "            print(\"Model trained on\",projs[i],\", tesing on\",projs[j])\n",
    "            #acc = metrics.accuracy_score(y_test, y_pred)\n",
    "            #print(\"Project: {}, Accuracy: {}, Precision: {}\".format(projs[j],acc,\n",
    "            #                                                       metrics.precision_score(y_test, y_pred)))\n",
    "            tbl[i][j]=g\n",
    "            #print(\"Test Project: {}, G-Score {}\".format(projs[j], g))\n",
    "print(tbl)"
   ]
  },
  {
   "cell_type": "code",
   "execution_count": 40,
   "metadata": {
    "scrolled": true
   },
   "outputs": [
    {
     "name": "stdout",
     "output_type": "stream",
     "text": [
      "   projects       ant     camel       ivy     jedit     log4j    lucene  \\\n",
      "0       ant  0.000000  0.101226  0.385596  0.582279  0.109059  0.182377   \n",
      "1     camel  0.398118  0.000000  0.375421  0.505455  0.242442  0.228678   \n",
      "2       ivy  0.209302  0.034955  0.000000  0.276655  0.037732  0.123990   \n",
      "3     jedit  0.157744  0.038393  0.111026  0.000000  0.007663  0.009091   \n",
      "4     log4j  0.257380  0.338042  0.227812  0.236897  0.000000  0.355090   \n",
      "5    lucene  0.462258  0.516806  0.533795  0.483632  0.637914  0.000000   \n",
      "6       poi  0.645508  0.570165  0.649033  0.617694  0.621242  0.624541   \n",
      "7  velocity  0.550314  0.502988  0.458872  0.447936  0.512429  0.454270   \n",
      "8     xalan  0.602899  0.526973  0.587643  0.466730  0.583352  0.578249   \n",
      "9    xerces  0.414248  0.349195  0.429603  0.392750  0.526491  0.525201   \n",
      "\n",
      "        poi  velocity     xalan    xerces  \n",
      "0  0.139191  0.093391  0.254520  0.217013  \n",
      "1  0.202408  0.177863  0.259373  0.246078  \n",
      "2  0.070911  0.047851  0.147351  0.162521  \n",
      "3  0.025139  0.016216  0.062208  0.021179  \n",
      "4  0.301106  0.354055  0.380410  0.458400  \n",
      "5  0.575353  0.559107  0.454077  0.560200  \n",
      "6  0.000000  0.513945  0.546537  0.542432  \n",
      "7  0.402908  0.000000  0.488544  0.528482  \n",
      "8  0.590272  0.538958  0.000000  0.567657  \n",
      "9  0.465450  0.486407  0.404523  0.000000  \n"
     ]
    }
   ],
   "source": [
    "df = pd.DataFrame(tbl)\n",
    "df.columns=projs\n",
    "df.insert(0,'projects',projs)\n",
    "print(df)\n",
    "#print(os.getcwd())\n",
    "df.to_csv(\"..//post_sampling_gscore.csv\",index=False)"
   ]
  },
  {
   "cell_type": "code",
   "execution_count": null,
   "metadata": {},
   "outputs": [],
   "source": []
  },
  {
   "cell_type": "code",
   "execution_count": null,
   "metadata": {},
   "outputs": [],
   "source": []
  },
  {
   "cell_type": "code",
   "execution_count": null,
   "metadata": {},
   "outputs": [],
   "source": []
  },
  {
   "cell_type": "code",
   "execution_count": null,
   "metadata": {},
   "outputs": [],
   "source": []
  },
  {
   "cell_type": "code",
   "execution_count": null,
   "metadata": {},
   "outputs": [],
   "source": []
  }
 ],
 "metadata": {
  "kernelspec": {
   "display_name": "Python 3",
   "language": "python",
   "name": "python3"
  },
  "language_info": {
   "codemirror_mode": {
    "name": "ipython",
    "version": 3
   },
   "file_extension": ".py",
   "mimetype": "text/x-python",
   "name": "python",
   "nbconvert_exporter": "python",
   "pygments_lexer": "ipython3",
   "version": "3.6.4"
  }
 },
 "nbformat": 4,
 "nbformat_minor": 2
}
