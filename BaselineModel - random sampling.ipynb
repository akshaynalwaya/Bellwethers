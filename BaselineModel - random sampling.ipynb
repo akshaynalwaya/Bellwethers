{
 "cells": [
  {
   "cell_type": "code",
   "execution_count": 1,
   "metadata": {},
   "outputs": [
    {
     "name": "stderr",
     "output_type": "stream",
     "text": [
      "C:\\Users\\sharm\\Anaconda3\\lib\\site-packages\\sklearn\\ensemble\\weight_boosting.py:29: DeprecationWarning: numpy.core.umath_tests is an internal NumPy module and should not be imported. It will be removed in a future NumPy release.\n",
      "  from numpy.core.umath_tests import inner1d\n"
     ]
    }
   ],
   "source": [
    "import os, random\n",
    "import numpy as np\n",
    "import pandas as pd\n",
    "from sklearn.ensemble import RandomForestClassifier\n",
    "from sklearn.datasets import make_classification\n",
    "from sklearn.model_selection import train_test_split\n",
    "from sklearn import metrics\n",
    "from sklearn.metrics import confusion_matrix\n",
    "\n",
    "random.seed(10)"
   ]
  },
  {
   "cell_type": "code",
   "execution_count": 2,
   "metadata": {},
   "outputs": [],
   "source": [
    "os.getcwd()\n",
    "data_path = \"/defects/src/data/Jureczko/collated_data/\"\n",
    "os.chdir(os.getcwd() + data_path)"
   ]
  },
  {
   "cell_type": "code",
   "execution_count": 3,
   "metadata": {},
   "outputs": [
    {
     "name": "stdout",
     "output_type": "stream",
     "text": [
      "   $wmc  $dit  $noc  $cbo  $rfc  $lcom  $ca  $ce  $npm    $lcom3  ...    $dam  \\\n",
      "0    11     4     2    14    42     29    2   12     5  0.725000  ...     1.0   \n",
      "1    14     1     1     8    32     49    4    4    12  0.835165  ...     1.0   \n",
      "2     3     2     0     1     9      0    0    1     1  0.000000  ...     1.0   \n",
      "3    12     3     0    12    37     32    0   12    12  0.858586  ...     1.0   \n",
      "4     6     3     0     4    21      1    0    4     6  0.700000  ...     1.0   \n",
      "\n",
      "   $moa      $mfa      $cam  $ic  $cbm       $amc  $max_cc  $avg_cc  $<bug  \n",
      "0     1  0.885057  0.232323    3     4  34.545455        3   1.2727      0  \n",
      "1     0  0.000000  0.307692    0     0  16.857143        6   1.6429      1  \n",
      "2     1  0.714286  0.666667    1     1  17.333333        1   0.6667      0  \n",
      "3     1  0.770833  0.458333    0     0  24.083333        3   1.4167      0  \n",
      "4     0  0.880952  0.416667    2     2  21.000000        1   0.8333      0  \n",
      "\n",
      "[5 rows x 21 columns]\n"
     ]
    }
   ],
   "source": [
    "data = pd.read_csv(\"ant_merged.csv\")\n",
    "print(data.head())\n",
    "X = data.loc[:,data.columns!='$<bug']\n",
    "y = data.loc[:,data.columns=='$<bug']"
   ]
  },
  {
   "cell_type": "code",
   "execution_count": 4,
   "metadata": {},
   "outputs": [
    {
     "name": "stdout",
     "output_type": "stream",
     "text": [
      "X dim:  (1692, 20)\n",
      "Y dim:  (1692, 1)\n"
     ]
    }
   ],
   "source": [
    "print(\"X dim: \",X.shape)\n",
    "print(\"Y dim: \",y.shape)"
   ]
  },
  {
   "cell_type": "code",
   "execution_count": 5,
   "metadata": {},
   "outputs": [
    {
     "name": "stdout",
     "output_type": "stream",
     "text": [
      "List of projects: ['ant', 'camel', 'ivy', 'jedit', 'log4j', 'lucene', 'poi', 'velocity', 'xalan', 'xerces']\n"
     ]
    }
   ],
   "source": [
    "projList = os.listdir()\n",
    "projs = [p.split('_')[0] for p in projList]\n",
    "print(\"List of projects:\",projs)"
   ]
  },
  {
   "cell_type": "code",
   "execution_count": 6,
   "metadata": {},
   "outputs": [],
   "source": [
    "# X_train, X_test, y_train, y_test = train_test_split(X, y, test_size=0.2,random_state=42)\n",
    "# print(\"X_train dim: \", X_train.shape)\n",
    "# print(\"X_test dim: \", X_test.shape)\n",
    "# print(\"y_train dim: \", y_train.shape)\n",
    "# print(\"y_test dim: \", y_test.shape)"
   ]
  },
  {
   "cell_type": "code",
   "execution_count": 13,
   "metadata": {
    "scrolled": true
   },
   "outputs": [
    {
     "name": "stdout",
     "output_type": "stream",
     "text": [
      "\n",
      "Iteration  0\n",
      "Model trained on  ant camel\n",
      "Model trained on  ant ivy\n",
      "Model trained on  ant jedit\n",
      "Model trained on  ant log4j\n",
      "Model trained on  ant lucene\n",
      "Model trained on  ant poi\n",
      "Model trained on  ant velocity\n",
      "Model trained on  ant xalan\n",
      "Model trained on  ant xerces\n",
      "\n",
      "Iteration  1\n",
      "Model trained on  camel ant\n",
      "Model trained on  camel ivy\n",
      "Model trained on  camel jedit\n",
      "Model trained on  camel log4j\n",
      "Model trained on  camel lucene\n",
      "Model trained on  camel poi\n",
      "Model trained on  camel velocity\n",
      "Model trained on  camel xalan\n",
      "Model trained on  camel xerces\n",
      "\n",
      "Iteration  2\n",
      "Model trained on  ivy ant\n",
      "Model trained on  ivy camel\n",
      "Model trained on  ivy jedit\n",
      "Model trained on  ivy log4j\n",
      "Model trained on  ivy lucene\n",
      "Model trained on  ivy poi\n",
      "Model trained on  ivy velocity\n",
      "Model trained on  ivy xalan\n",
      "Model trained on  ivy xerces\n",
      "\n",
      "Iteration  3\n",
      "Model trained on  jedit ant\n",
      "Model trained on  jedit camel\n",
      "Model trained on  jedit ivy\n",
      "Model trained on  jedit log4j\n",
      "Model trained on  jedit lucene\n",
      "Model trained on  jedit poi\n",
      "Model trained on  jedit velocity\n",
      "Model trained on  jedit xalan\n",
      "Model trained on  jedit xerces\n",
      "\n",
      "Iteration  4\n",
      "Model trained on  log4j ant\n",
      "Model trained on  log4j camel\n",
      "Model trained on  log4j ivy\n",
      "Model trained on  log4j jedit\n",
      "Model trained on  log4j lucene\n",
      "Model trained on  log4j poi\n",
      "Model trained on  log4j velocity\n",
      "Model trained on  log4j xalan\n",
      "Model trained on  log4j xerces\n",
      "\n",
      "Iteration  5\n",
      "Model trained on  lucene ant\n",
      "Model trained on  lucene camel\n",
      "Model trained on  lucene ivy\n",
      "Model trained on  lucene jedit\n",
      "Model trained on  lucene log4j\n",
      "Model trained on  lucene poi\n",
      "Model trained on  lucene velocity\n",
      "Model trained on  lucene xalan\n",
      "Model trained on  lucene xerces\n",
      "\n",
      "Iteration  6\n",
      "Model trained on  poi ant\n",
      "Model trained on  poi camel\n",
      "Model trained on  poi ivy\n",
      "Model trained on  poi jedit\n",
      "Model trained on  poi log4j\n",
      "Model trained on  poi lucene\n",
      "Model trained on  poi velocity\n",
      "Model trained on  poi xalan\n",
      "Model trained on  poi xerces\n",
      "\n",
      "Iteration  7\n",
      "Model trained on  velocity ant\n",
      "Model trained on  velocity camel\n",
      "Model trained on  velocity ivy\n",
      "Model trained on  velocity jedit\n",
      "Model trained on  velocity log4j\n",
      "Model trained on  velocity lucene\n",
      "Model trained on  velocity poi\n",
      "Model trained on  velocity xalan\n",
      "Model trained on  velocity xerces\n",
      "\n",
      "Iteration  8\n",
      "Model trained on  xalan ant\n",
      "Model trained on  xalan camel\n",
      "Model trained on  xalan ivy\n",
      "Model trained on  xalan jedit\n",
      "Model trained on  xalan log4j\n",
      "Model trained on  xalan lucene\n",
      "Model trained on  xalan poi\n",
      "Model trained on  xalan velocity\n",
      "Model trained on  xalan xerces\n",
      "\n",
      "Iteration  9\n",
      "Model trained on  xerces ant\n",
      "Model trained on  xerces camel\n",
      "Model trained on  xerces ivy\n",
      "Model trained on  xerces jedit\n",
      "Model trained on  xerces log4j\n",
      "Model trained on  xerces lucene\n",
      "Model trained on  xerces poi\n",
      "Model trained on  xerces velocity\n",
      "Model trained on  xerces xalan\n",
      "[[0, 0.7905890804597702, 0.8096590909090909, 0.808461978273299, 0.45657015590200445, 0.49232736572890023, 0.5137880986937591, 0.4397496087636933, 0.5045180722891566, 0.631162507608034], [0.7801418439716312, 0, 0.8139204545454546, 0.7753001715265866, 0.48997772828507796, 0.48721227621483376, 0.5246734397677794, 0.46322378716744916, 0.5018072289156627, 0.6068167985392574], [0.806146572104019, 0.788433908045977, 0, 0.8198970840480274, 0.4298440979955457, 0.4629156010230179, 0.49637155297532654, 0.4303599374021909, 0.48373493975903614, 0.6135118685331711], [0.7990543735224587, 0.8010057471264368, 0.8295454545454546, 0, 0.42316258351893093, 0.4424552429667519, 0.4927431059506531, 0.4303599374021909, 0.4671686746987952, 0.6049908703590993], [0.3197399527186761, 0.34410919540229884, 0.2599431818181818, 0.2887364208118925, 0, 0.5997442455242967, 0.5718432510885341, 0.6040688575899843, 0.5189759036144578, 0.5076080340839927], [0.43380614657210403, 0.4637212643678161, 0.46732954545454547, 0.43853630646083475, 0.623608017817372, 0, 0.6364296081277213, 0.5915492957746479, 0.5674698795180723, 0.5514303104077907], [0.5916075650118203, 0.6454741379310345, 0.6363636363636364, 0.5511720983419096, 0.6347438752783965, 0.6355498721227621, 0, 0.5258215962441315, 0.5463855421686747, 0.5715155203895314], [0.5313238770685579, 0.4525862068965517, 0.38636363636363635, 0.4248141795311607, 0.5857461024498887, 0.5767263427109974, 0.5283018867924528, 0, 0.49457831325301205, 0.5696895922093731], [0.5520094562647754, 0.6278735632183908, 0.5298295454545454, 0.42424242424242425, 0.6035634743875279, 0.5959079283887468, 0.6291727140783745, 0.5320813771517997, 0, 0.6007303712720633], [0.40070921985815605, 0.3545258620689655, 0.3821022727272727, 0.36363636363636365, 0.5968819599109132, 0.6253196930946292, 0.5500725689404935, 0.5790297339593115, 0.5120481927710844, 0]]\n"
     ]
    }
   ],
   "source": [
    "tbl = [[0]*len(projs) for p in projs]\n",
    "\n",
    "for i in range(len(projs)):\n",
    "    print(\"\\nIteration \",i)\n",
    "    trainData = pd.read_csv(projList[i])\n",
    "    #print(\"train data: \", projList[i], projs[i])\n",
    "    #print(trainData.head())\n",
    "    X_train = trainData.loc[:,trainData.columns!='$<bug']\n",
    "    y_train = trainData.loc[:,trainData.columns=='$<bug']\n",
    "    for j in range(len(projs)):\n",
    "        if (i != j):\n",
    "            testData = pd.read_csv(projList[j])\n",
    "            #print(\"test data: \", projList[j], projs[j])\n",
    "            #print(testData.head())\n",
    "            X_test = testData.loc[:, testData.columns!='$<bug']\n",
    "            y_test = testData.loc[:, testData.columns=='$<bug']\n",
    "            clf = RandomForestClassifier(n_estimators=1000, n_jobs=1)\n",
    "            clf.fit(X_train, y_train.values.ravel())\n",
    "            y_pred = clf.predict(X_test)\n",
    "            cm = confusion_matrix(y_test, y_pred)\n",
    "            #print(\"Sum: \",sum(y_pred))\n",
    "            #print(\"Confusion Matrix: \",cm)\n",
    "            #print(\"True Positive: \", cm[1][1])\n",
    "            #print(\"False Positive: \", cm[0][1])\n",
    "            #print(\"True Negative: \", cm[0][0])\n",
    "            #print(\"False Negative: \", cm[1][0])\n",
    "            #pd = tp/(tp+fn)\n",
    "            recall = cm[1][1]/(cm[1][1] + cm[1][0])\n",
    "            #pf = fp/(fp+tn)\n",
    "            pf = cm[0][1]/(cm[0][1] + cm[0][0])\n",
    "            \n",
    "            g = 2/((1/recall) + (1/(1-pf)))\n",
    "            \n",
    "            print(\"Model trained on \",projs[i] + \" \" +  projs[j])\n",
    "            acc = metrics.accuracy_score(y_test, y_pred)\n",
    "            #print(\"Project: {}, Accuracy: {}, Precision: {}\".format(projs[j],acc,\n",
    "            #                                                       metrics.precision_score(y_test, y_pred)))\n",
    "            tbl[i][j]=acc\n",
    "            #print(\"Test Project: {}, G-Score {}\".format(projs[j], g))\n",
    "print(tbl)"
   ]
  },
  {
   "cell_type": "code",
   "execution_count": 21,
   "metadata": {},
   "outputs": [
    {
     "name": "stdout",
     "output_type": "stream",
     "text": [
      "   projects       ant     camel       ivy     jedit     log4j    lucene  \\\n",
      "0       ant  0.000000  0.790589  0.809659  0.808462  0.456570  0.492327   \n",
      "1     camel  0.780142  0.000000  0.813920  0.775300  0.489978  0.487212   \n",
      "2       ivy  0.806147  0.788434  0.000000  0.819897  0.429844  0.462916   \n",
      "3     jedit  0.799054  0.801006  0.829545  0.000000  0.423163  0.442455   \n",
      "4     log4j  0.319740  0.344109  0.259943  0.288736  0.000000  0.599744   \n",
      "5    lucene  0.433806  0.463721  0.467330  0.438536  0.623608  0.000000   \n",
      "6       poi  0.591608  0.645474  0.636364  0.551172  0.634744  0.635550   \n",
      "7  velocity  0.531324  0.452586  0.386364  0.424814  0.585746  0.576726   \n",
      "8     xalan  0.552009  0.627874  0.529830  0.424242  0.603563  0.595908   \n",
      "9    xerces  0.400709  0.354526  0.382102  0.363636  0.596882  0.625320   \n",
      "\n",
      "        poi  velocity     xalan    xerces  \n",
      "0  0.513788  0.439750  0.504518  0.631163  \n",
      "1  0.524673  0.463224  0.501807  0.606817  \n",
      "2  0.496372  0.430360  0.483735  0.613512  \n",
      "3  0.492743  0.430360  0.467169  0.604991  \n",
      "4  0.571843  0.604069  0.518976  0.507608  \n",
      "5  0.636430  0.591549  0.567470  0.551430  \n",
      "6  0.000000  0.525822  0.546386  0.571516  \n",
      "7  0.528302  0.000000  0.494578  0.569690  \n",
      "8  0.629173  0.532081  0.000000  0.600730  \n",
      "9  0.550073  0.579030  0.512048  0.000000  \n"
     ]
    }
   ],
   "source": [
    "df = pd.DataFrame(tbl)\n",
    "df.columns=projs\n",
    "df.insert(0,'projects',projs)\n",
    "print(df)\n",
    "#print(os.getcwd())\n",
    "df.to_csv(\"..//baseline_accuracy.csv\",index=False)"
   ]
  },
  {
   "cell_type": "code",
   "execution_count": null,
   "metadata": {},
   "outputs": [],
   "source": []
  },
  {
   "cell_type": "markdown",
   "metadata": {},
   "source": [
    "### Training a random forest classifier"
   ]
  },
  {
   "cell_type": "code",
   "execution_count": 15,
   "metadata": {},
   "outputs": [
    {
     "name": "stderr",
     "output_type": "stream",
     "text": [
      "C:\\Users\\USAKNAL\\AppData\\Local\\Continuum\\anaconda3\\lib\\site-packages\\ipykernel_launcher.py:2: DataConversionWarning: A column-vector y was passed when a 1d array was expected. Please change the shape of y to (n_samples,), for example using ravel().\n",
      "  \n"
     ]
    },
    {
     "data": {
      "text/plain": [
       "RandomForestClassifier(bootstrap=True, class_weight=None, criterion='gini',\n",
       "            max_depth=None, max_features='auto', max_leaf_nodes=None,\n",
       "            min_impurity_decrease=0.0, min_impurity_split=None,\n",
       "            min_samples_leaf=1, min_samples_split=2,\n",
       "            min_weight_fraction_leaf=0.0, n_estimators=1000, n_jobs=1,\n",
       "            oob_score=False, random_state=None, verbose=0,\n",
       "            warm_start=False)"
      ]
     },
     "execution_count": 15,
     "metadata": {},
     "output_type": "execute_result"
    }
   ],
   "source": [
    "clf = RandomForestClassifier(n_estimators=1000, n_jobs=1)\n",
    "clf.fit(X_train, y_train)"
   ]
  },
  {
   "cell_type": "code",
   "execution_count": 16,
   "metadata": {},
   "outputs": [],
   "source": [
    "y_predictions = clf.predict(X_test)"
   ]
  },
  {
   "cell_type": "code",
   "execution_count": 17,
   "metadata": {},
   "outputs": [
    {
     "name": "stdout",
     "output_type": "stream",
     "text": [
      "Accuracy:  0.8053097345132744\n",
      "Precision:  0.5217391304347826\n",
      "Recall:  0.35294117647058826\n",
      "F1-score:  0.4210526315789474\n"
     ]
    }
   ],
   "source": [
    "print(\"Accuracy: \",metrics.accuracy_score(y_test, y_predictions))\n",
    "print(\"Precision: \",metrics.precision_score(y_test, y_predictions))\n",
    "print(\"Recall: \",metrics.recall_score(y_test, y_predictions))\n",
    "print(\"F1-score: \",metrics.f1_score(y_test, y_predictions))"
   ]
  },
  {
   "cell_type": "code",
   "execution_count": null,
   "metadata": {},
   "outputs": [],
   "source": []
  }
 ],
 "metadata": {
  "kernelspec": {
   "display_name": "Python 3",
   "language": "python",
   "name": "python3"
  },
  "language_info": {
   "codemirror_mode": {
    "name": "ipython",
    "version": 3
   },
   "file_extension": ".py",
   "mimetype": "text/x-python",
   "name": "python",
   "nbconvert_exporter": "python",
   "pygments_lexer": "ipython3",
   "version": "3.7.0"
  }
 },
 "nbformat": 4,
 "nbformat_minor": 2
}
