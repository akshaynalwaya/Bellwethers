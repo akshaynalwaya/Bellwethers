{
 "cells": [
  {
   "cell_type": "code",
   "execution_count": 1,
   "metadata": {},
   "outputs": [],
   "source": [
    "import os, random\n",
    "import numpy as np\n",
    "import pandas as pd\n",
    "from sklearn.ensemble import RandomForestClassifier\n",
    "from sklearn.datasets import make_classification\n",
    "from sklearn.model_selection import train_test_split\n",
    "from sklearn import metrics\n",
    "random.seed(10)"
   ]
  },
  {
   "cell_type": "code",
   "execution_count": 2,
   "metadata": {},
   "outputs": [],
   "source": [
    "os.getcwd()\n",
    "data_path = \"/defects/src/data/Jureczko/collated_data/\"\n",
    "os.chdir(os.getcwd() + data_path)"
   ]
  },
  {
   "cell_type": "code",
   "execution_count": 3,
   "metadata": {},
   "outputs": [
    {
     "name": "stdout",
     "output_type": "stream",
     "text": [
      "   $wmc  $dit  $noc  $cbo  $rfc  $lcom  $ca  $ce  $npm    $lcom3  ...    $dam  \\\n",
      "0    11     4     2    14    42     29    2   12     5  0.725000  ...     1.0   \n",
      "1    14     1     1     8    32     49    4    4    12  0.835165  ...     1.0   \n",
      "2     3     2     0     1     9      0    0    1     1  0.000000  ...     1.0   \n",
      "3    12     3     0    12    37     32    0   12    12  0.858586  ...     1.0   \n",
      "4     6     3     0     4    21      1    0    4     6  0.700000  ...     1.0   \n",
      "\n",
      "   $moa      $mfa      $cam  $ic  $cbm       $amc  $max_cc  $avg_cc  $<bug  \n",
      "0     1  0.885057  0.232323    3     4  34.545455        3   1.2727      0  \n",
      "1     0  0.000000  0.307692    0     0  16.857143        6   1.6429      1  \n",
      "2     1  0.714286  0.666667    1     1  17.333333        1   0.6667      0  \n",
      "3     1  0.770833  0.458333    0     0  24.083333        3   1.4167      0  \n",
      "4     0  0.880952  0.416667    2     2  21.000000        1   0.8333      0  \n",
      "\n",
      "[5 rows x 21 columns]\n"
     ]
    }
   ],
   "source": [
    "data = pd.read_csv(\"ant_merged.csv\")\n",
    "print(data.head())\n",
    "X = data.loc[:,data.columns!='$<bug']\n",
    "y = data.loc[:,data.columns=='$<bug']"
   ]
  },
  {
   "cell_type": "code",
   "execution_count": 4,
   "metadata": {},
   "outputs": [
    {
     "name": "stdout",
     "output_type": "stream",
     "text": [
      "X dim:  (1692, 20)\n",
      "Y dim:  (1692, 1)\n"
     ]
    }
   ],
   "source": [
    "print(\"X dim: \",X.shape)\n",
    "print(\"Y dim: \",y.shape)"
   ]
  },
  {
   "cell_type": "code",
   "execution_count": 13,
   "metadata": {},
   "outputs": [],
   "source": [
    "X_train, X_test, y_train, y_test = train_test_split(X, y, test_size=0.2,random_state=42)"
   ]
  },
  {
   "cell_type": "code",
   "execution_count": 14,
   "metadata": {},
   "outputs": [
    {
     "name": "stdout",
     "output_type": "stream",
     "text": [
      "X_train dim:  (1353, 20)\n",
      "X_test dim:  (339, 20)\n",
      "y_train dim:  (1353, 1)\n",
      "y_test dim:  (339, 1)\n"
     ]
    }
   ],
   "source": [
    "print(\"X_train dim: \", X_train.shape)\n",
    "print(\"X_test dim: \", X_test.shape)\n",
    "print(\"y_train dim: \", y_train.shape)\n",
    "print(\"y_test dim: \", y_test.shape)"
   ]
  },
  {
   "cell_type": "markdown",
   "metadata": {},
   "source": [
    "### Training a random forest classifier"
   ]
  },
  {
   "cell_type": "code",
   "execution_count": 15,
   "metadata": {},
   "outputs": [
    {
     "name": "stderr",
     "output_type": "stream",
     "text": [
      "C:\\Users\\USAKNAL\\AppData\\Local\\Continuum\\anaconda3\\lib\\site-packages\\ipykernel_launcher.py:2: DataConversionWarning: A column-vector y was passed when a 1d array was expected. Please change the shape of y to (n_samples,), for example using ravel().\n",
      "  \n"
     ]
    },
    {
     "data": {
      "text/plain": [
       "RandomForestClassifier(bootstrap=True, class_weight=None, criterion='gini',\n",
       "            max_depth=None, max_features='auto', max_leaf_nodes=None,\n",
       "            min_impurity_decrease=0.0, min_impurity_split=None,\n",
       "            min_samples_leaf=1, min_samples_split=2,\n",
       "            min_weight_fraction_leaf=0.0, n_estimators=1000, n_jobs=1,\n",
       "            oob_score=False, random_state=None, verbose=0,\n",
       "            warm_start=False)"
      ]
     },
     "execution_count": 15,
     "metadata": {},
     "output_type": "execute_result"
    }
   ],
   "source": [
    "clf = RandomForestClassifier(n_estimators=1000, n_jobs=1)\n",
    "clf.fit(X_train, y_train)"
   ]
  },
  {
   "cell_type": "code",
   "execution_count": 16,
   "metadata": {},
   "outputs": [],
   "source": [
    "y_predictions = clf.predict(X_test)"
   ]
  },
  {
   "cell_type": "code",
   "execution_count": 17,
   "metadata": {},
   "outputs": [
    {
     "name": "stdout",
     "output_type": "stream",
     "text": [
      "Accuracy:  0.8053097345132744\n",
      "Precision:  0.5217391304347826\n",
      "Recall:  0.35294117647058826\n",
      "F1-score:  0.4210526315789474\n"
     ]
    }
   ],
   "source": [
    "print(\"Accuracy: \",metrics.accuracy_score(y_test, y_predictions))\n",
    "print(\"Precision: \",metrics.precision_score(y_test, y_predictions))\n",
    "print(\"Recall: \",metrics.recall_score(y_test, y_predictions))\n",
    "print(\"F1-score: \",metrics.f1_score(y_test, y_predictions))"
   ]
  },
  {
   "cell_type": "code",
   "execution_count": null,
   "metadata": {},
   "outputs": [],
   "source": []
  }
 ],
 "metadata": {
  "kernelspec": {
   "display_name": "Python 3",
   "language": "python",
   "name": "python3"
  },
  "language_info": {
   "codemirror_mode": {
    "name": "ipython",
    "version": 3
   },
   "file_extension": ".py",
   "mimetype": "text/x-python",
   "name": "python",
   "nbconvert_exporter": "python",
   "pygments_lexer": "ipython3",
   "version": "3.6.4"
  }
 },
 "nbformat": 4,
 "nbformat_minor": 2
}
