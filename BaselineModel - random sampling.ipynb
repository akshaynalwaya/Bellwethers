{
 "cells": [
  {
   "cell_type": "code",
   "execution_count": 1,
   "metadata": {},
   "outputs": [],
   "source": [
    "import os, random\n",
    "import numpy as np\n",
    "import pandas as pd\n",
    "from sklearn.ensemble import RandomForestClassifier\n",
    "from sklearn.datasets import make_classification\n",
    "from sklearn.model_selection import train_test_split\n",
    "from sklearn import metrics\n",
    "random.seed(10)"
   ]
  },
  {
   "cell_type": "code",
   "execution_count": 2,
   "metadata": {},
   "outputs": [],
   "source": [
    "os.getcwd()\n",
    "data_path = \"/defects/src/data/Jureczko/collated_data/\"\n",
    "os.chdir(os.getcwd() + data_path)"
   ]
  },
  {
   "cell_type": "code",
   "execution_count": 3,
   "metadata": {},
   "outputs": [
    {
     "name": "stdout",
     "output_type": "stream",
     "text": [
      "   $wmc  $dit  $noc  $cbo  $rfc  $lcom  $ca  $ce  $npm    $lcom3  ...    $dam  \\\n",
      "0    11     4     2    14    42     29    2   12     5  0.725000  ...     1.0   \n",
      "1    14     1     1     8    32     49    4    4    12  0.835165  ...     1.0   \n",
      "2     3     2     0     1     9      0    0    1     1  0.000000  ...     1.0   \n",
      "3    12     3     0    12    37     32    0   12    12  0.858586  ...     1.0   \n",
      "4     6     3     0     4    21      1    0    4     6  0.700000  ...     1.0   \n",
      "\n",
      "   $moa      $mfa      $cam  $ic  $cbm       $amc  $max_cc  $avg_cc  $<bug  \n",
      "0     1  0.885057  0.232323    3     4  34.545455        3   1.2727      0  \n",
      "1     0  0.000000  0.307692    0     0  16.857143        6   1.6429      1  \n",
      "2     1  0.714286  0.666667    1     1  17.333333        1   0.6667      0  \n",
      "3     1  0.770833  0.458333    0     0  24.083333        3   1.4167      0  \n",
      "4     0  0.880952  0.416667    2     2  21.000000        1   0.8333      0  \n",
      "\n",
      "[5 rows x 21 columns]\n"
     ]
    }
   ],
   "source": [
    "data = pd.read_csv(\"ant_merged.csv\")\n",
    "print(data.head())\n",
    "X = data.loc[:,data.columns!='$<bug']\n",
    "y = data.loc[:,data.columns=='$<bug']"
   ]
  },
  {
   "cell_type": "code",
   "execution_count": 4,
   "metadata": {},
   "outputs": [
    {
     "name": "stdout",
     "output_type": "stream",
     "text": [
      "X dim:  (1692, 20)\n",
      "Y dim:  (1692, 1)\n"
     ]
    }
   ],
   "source": [
    "print(\"X dim: \",X.shape)\n",
    "print(\"Y dim: \",y.shape)"
   ]
  },
  {
   "cell_type": "code",
   "execution_count": 15,
   "metadata": {},
   "outputs": [
    {
     "name": "stdout",
     "output_type": "stream",
     "text": [
      "List of projects: ['ant', 'camel', 'ivy', 'jedit', 'log4j', 'lucene', 'poi', 'velocity', 'xalan', 'xerces']\n"
     ]
    }
   ],
   "source": [
    "projList = os.listdir()\n",
    "projs = [p.split('_')[0] for p in projList]\n",
    "print(\"List of projects:\",projs)"
   ]
  },
  {
   "cell_type": "code",
   "execution_count": 11,
   "metadata": {},
   "outputs": [],
   "source": [
    "# X_train, X_test, y_train, y_test = train_test_split(X, y, test_size=0.2,random_state=42)\n",
    "# print(\"X_train dim: \", X_train.shape)\n",
    "# print(\"X_test dim: \", X_test.shape)\n",
    "# print(\"y_train dim: \", y_train.shape)\n",
    "# print(\"y_test dim: \", y_test.shape)"
   ]
  },
  {
   "cell_type": "code",
   "execution_count": 26,
   "metadata": {
    "scrolled": false
   },
   "outputs": [
    {
     "name": "stdout",
     "output_type": "stream",
     "text": [
      "\n",
      "Iteration  0\n",
      "Model trained on  ant\n",
      "Project: camel Accuracy: 0.790948275862069\n",
      "Model trained on  ant\n",
      "Project: ivy Accuracy: 0.8011363636363636\n",
      "Model trained on  ant\n",
      "Project: jedit Accuracy: 0.8107489994282447\n",
      "Model trained on  ant\n",
      "Project: log4j Accuracy: 0.45434298440979953\n",
      "Model trained on  ant\n",
      "Project: lucene Accuracy: 0.49104859335038364\n",
      "Model trained on  ant\n",
      "Project: poi Accuracy: 0.5137880986937591\n",
      "Model trained on  ant\n",
      "Project: velocity Accuracy: 0.4397496087636933\n",
      "Model trained on  ant\n",
      "Project: xalan Accuracy: 0.5051204819277109\n",
      "Model trained on  ant\n",
      "Project: xerces Accuracy: 0.62507608034084\n",
      "\n",
      "Iteration  1\n",
      "Model trained on  camel\n",
      "Project: ant Accuracy: 0.7807328605200946\n",
      "Model trained on  camel\n",
      "Project: ivy Accuracy: 0.8082386363636364\n",
      "Model trained on  camel\n",
      "Project: jedit Accuracy: 0.7827329902801601\n",
      "Model trained on  camel\n",
      "Project: log4j Accuracy: 0.48775055679287305\n",
      "Model trained on  camel\n",
      "Project: lucene Accuracy: 0.4859335038363171\n",
      "Model trained on  camel\n",
      "Project: poi Accuracy: 0.5239477503628447\n",
      "Model trained on  camel\n",
      "Project: velocity Accuracy: 0.46322378716744916\n",
      "Model trained on  camel\n",
      "Project: xalan Accuracy: 0.4963855421686747\n",
      "Model trained on  camel\n",
      "Project: xerces Accuracy: 0.6062081558125381\n",
      "\n",
      "Iteration  2\n",
      "Model trained on  ivy\n",
      "Project: ant Accuracy: 0.8049645390070922\n",
      "Model trained on  ivy\n",
      "Project: camel Accuracy: 0.7891522988505747\n",
      "Model trained on  ivy\n",
      "Project: jedit Accuracy: 0.8216123499142367\n",
      "Model trained on  ivy\n",
      "Project: log4j Accuracy: 0.42761692650334077\n",
      "Model trained on  ivy\n",
      "Project: lucene Accuracy: 0.46035805626598464\n",
      "Model trained on  ivy\n",
      "Project: poi Accuracy: 0.49709724238026126\n",
      "Model trained on  ivy\n",
      "Project: velocity Accuracy: 0.4350547730829421\n",
      "Model trained on  ivy\n",
      "Project: xalan Accuracy: 0.48373493975903614\n",
      "Model trained on  ivy\n",
      "Project: xerces Accuracy: 0.6141205112598904\n",
      "\n",
      "Iteration  3\n",
      "Model trained on  jedit\n",
      "Project: ant Accuracy: 0.7990543735224587\n",
      "Model trained on  jedit\n",
      "Project: camel Accuracy: 0.8013649425287356\n",
      "Model trained on  jedit\n",
      "Project: ivy Accuracy: 0.8309659090909091\n",
      "Model trained on  jedit\n",
      "Project: log4j Accuracy: 0.42316258351893093\n",
      "Model trained on  jedit\n",
      "Project: lucene Accuracy: 0.4424552429667519\n",
      "Model trained on  jedit\n",
      "Project: poi Accuracy: 0.4927431059506531\n",
      "Model trained on  jedit\n",
      "Project: velocity Accuracy: 0.4287949921752739\n",
      "Model trained on  jedit\n",
      "Project: xalan Accuracy: 0.4686746987951807\n",
      "Model trained on  jedit\n",
      "Project: xerces Accuracy: 0.6049908703590993\n",
      "\n",
      "Iteration  4\n",
      "Model trained on  log4j\n",
      "Project: ant Accuracy: 0.3173758865248227\n",
      "Model trained on  log4j\n",
      "Project: camel Accuracy: 0.34626436781609193\n",
      "Model trained on  log4j\n",
      "Project: ivy Accuracy: 0.2585227272727273\n",
      "Model trained on  log4j\n",
      "Project: jedit Accuracy: 0.27329902801600914\n",
      "Model trained on  log4j\n",
      "Project: lucene Accuracy: 0.6023017902813299\n",
      "Model trained on  log4j\n",
      "Project: poi Accuracy: 0.5725689404934688\n",
      "Model trained on  log4j\n",
      "Project: velocity Accuracy: 0.621283255086072\n",
      "Model trained on  log4j\n",
      "Project: xalan Accuracy: 0.5207831325301204\n",
      "Model trained on  log4j\n",
      "Project: xerces Accuracy: 0.5161290322580645\n",
      "\n",
      "Iteration  5\n",
      "Model trained on  lucene\n",
      "Project: ant Accuracy: 0.44089834515366433\n",
      "Model trained on  lucene\n",
      "Project: camel Accuracy: 0.4608477011494253\n",
      "Model trained on  lucene\n",
      "Project: ivy Accuracy: 0.4715909090909091\n",
      "Model trained on  lucene\n",
      "Project: jedit Accuracy: 0.43281875357347055\n",
      "Model trained on  lucene\n",
      "Project: log4j Accuracy: 0.6391982182628062\n",
      "Model trained on  lucene\n",
      "Project: poi Accuracy: 0.6378809869375908\n",
      "Model trained on  lucene\n",
      "Project: velocity Accuracy: 0.5852895148669797\n",
      "Model trained on  lucene\n",
      "Project: xalan Accuracy: 0.5475903614457831\n",
      "Model trained on  lucene\n",
      "Project: xerces Accuracy: 0.5544735240413877\n",
      "\n",
      "Iteration  6\n",
      "Model trained on  poi\n",
      "Project: ant Accuracy: 0.5892434988179669\n",
      "Model trained on  poi\n",
      "Project: camel Accuracy: 0.6361350574712644\n",
      "Model trained on  poi\n",
      "Project: ivy Accuracy: 0.6306818181818182\n",
      "Model trained on  poi\n",
      "Project: jedit Accuracy: 0.5483133218982276\n",
      "Model trained on  poi\n",
      "Project: log4j Accuracy: 0.6325167037861915\n",
      "Model trained on  poi\n",
      "Project: lucene Accuracy: 0.639386189258312\n",
      "Model trained on  poi\n",
      "Project: velocity Accuracy: 0.5336463223787168\n",
      "Model trained on  poi\n",
      "Project: xalan Accuracy: 0.5466867469879518\n",
      "Model trained on  poi\n",
      "Project: xerces Accuracy: 0.5623858794887401\n",
      "\n",
      "Iteration  7\n",
      "Model trained on  velocity\n",
      "Project: ant Accuracy: 0.5195035460992907\n",
      "Model trained on  velocity\n",
      "Project: camel Accuracy: 0.45653735632183906\n",
      "Model trained on  velocity\n",
      "Project: ivy Accuracy: 0.3963068181818182\n",
      "Model trained on  velocity\n",
      "Project: jedit Accuracy: 0.4259576901086335\n",
      "Model trained on  velocity\n",
      "Project: log4j Accuracy: 0.5924276169265034\n",
      "Model trained on  velocity\n",
      "Project: lucene Accuracy: 0.5831202046035806\n",
      "Model trained on  velocity\n",
      "Project: poi Accuracy: 0.5268505079825835\n",
      "Model trained on  velocity\n",
      "Project: xalan Accuracy: 0.4930722891566265\n",
      "Model trained on  velocity\n",
      "Project: xerces Accuracy: 0.5721241631162508\n",
      "\n",
      "Iteration  8\n",
      "Model trained on  xalan\n",
      "Project: ant Accuracy: 0.5437352245862884\n",
      "Model trained on  xalan\n",
      "Project: camel Accuracy: 0.6364942528735632\n",
      "Model trained on  xalan\n",
      "Project: ivy Accuracy: 0.5383522727272727\n",
      "Model trained on  xalan\n",
      "Project: jedit Accuracy: 0.41680960548885077\n",
      "Model trained on  xalan\n",
      "Project: log4j Accuracy: 0.5924276169265034\n",
      "Model trained on  xalan\n",
      "Project: lucene Accuracy: 0.5997442455242967\n",
      "Model trained on  xalan\n",
      "Project: poi Accuracy: 0.6320754716981132\n",
      "Model trained on  xalan\n",
      "Project: velocity Accuracy: 0.5414710485133021\n",
      "Model trained on  xalan\n",
      "Project: xerces Accuracy: 0.6001217285453438\n",
      "\n",
      "Iteration  9\n",
      "Model trained on  xerces\n",
      "Project: ant Accuracy: 0.3942080378250591\n",
      "Model trained on  xerces\n",
      "Project: camel Accuracy: 0.3563218390804598\n",
      "Model trained on  xerces\n",
      "Project: ivy Accuracy: 0.3821022727272727\n",
      "Model trained on  xerces\n",
      "Project: jedit Accuracy: 0.3676386506575186\n",
      "Model trained on  xerces\n",
      "Project: log4j Accuracy: 0.5924276169265034\n",
      "Model trained on  xerces\n",
      "Project: lucene Accuracy: 0.612531969309463\n",
      "Model trained on  xerces\n",
      "Project: poi Accuracy: 0.5529753265602322\n",
      "Model trained on  xerces\n",
      "Project: velocity Accuracy: 0.5774647887323944\n",
      "Model trained on  xerces\n",
      "Project: xalan Accuracy: 0.522289156626506\n"
     ]
    }
   ],
   "source": [
    "for i in range(len(projs)):\n",
    "    print(\"\\nIteration \",i)\n",
    "    trainData = pd.read_csv(projList[i])\n",
    "    #print(\"train data: \", projList[i], projs[i])\n",
    "    #print(trainData.head())\n",
    "    X_train = trainData.loc[:,trainData.columns!='$<bug']\n",
    "    y_train = trainData.loc[:,trainData.columns=='$<bug']\n",
    "    for j in range(len(projs)):\n",
    "        if (i != j):\n",
    "            testData = pd.read_csv(projList[j])\n",
    "            #print(\"test data: \", projList[j], projs[j])\n",
    "            #print(testData.head())\n",
    "            X_test = testData.loc[:, testData.columns!='$<bug']\n",
    "            y_test = testData.loc[:, testData.columns=='$<bug']\n",
    "            clf = RandomForestClassifier(n_estimators=1000, n_jobs=1)\n",
    "            clf.fit(X_train, y_train.values.ravel())\n",
    "            y_pred = clf.predict(X_test)\n",
    "            print(\"Model trained on \",projs[i])\n",
    "            print(\"Project: {} Accuracy: {}\".format(projs[j],metrics.accuracy_score(y_test, y_pred)))\n",
    "\n",
    "            "
   ]
  },
  {
   "cell_type": "code",
   "execution_count": null,
   "metadata": {},
   "outputs": [],
   "source": []
  },
  {
   "cell_type": "code",
   "execution_count": null,
   "metadata": {},
   "outputs": [],
   "source": []
  },
  {
   "cell_type": "code",
   "execution_count": null,
   "metadata": {},
   "outputs": [],
   "source": []
  },
  {
   "cell_type": "markdown",
   "metadata": {},
   "source": [
    "### Training a random forest classifier"
   ]
  },
  {
   "cell_type": "code",
   "execution_count": 15,
   "metadata": {},
   "outputs": [
    {
     "name": "stderr",
     "output_type": "stream",
     "text": [
      "C:\\Users\\USAKNAL\\AppData\\Local\\Continuum\\anaconda3\\lib\\site-packages\\ipykernel_launcher.py:2: DataConversionWarning: A column-vector y was passed when a 1d array was expected. Please change the shape of y to (n_samples,), for example using ravel().\n",
      "  \n"
     ]
    },
    {
     "data": {
      "text/plain": [
       "RandomForestClassifier(bootstrap=True, class_weight=None, criterion='gini',\n",
       "            max_depth=None, max_features='auto', max_leaf_nodes=None,\n",
       "            min_impurity_decrease=0.0, min_impurity_split=None,\n",
       "            min_samples_leaf=1, min_samples_split=2,\n",
       "            min_weight_fraction_leaf=0.0, n_estimators=1000, n_jobs=1,\n",
       "            oob_score=False, random_state=None, verbose=0,\n",
       "            warm_start=False)"
      ]
     },
     "execution_count": 15,
     "metadata": {},
     "output_type": "execute_result"
    }
   ],
   "source": [
    "clf = RandomForestClassifier(n_estimators=1000, n_jobs=1)\n",
    "clf.fit(X_train, y_train)"
   ]
  },
  {
   "cell_type": "code",
   "execution_count": 16,
   "metadata": {},
   "outputs": [],
   "source": [
    "y_predictions = clf.predict(X_test)"
   ]
  },
  {
   "cell_type": "code",
   "execution_count": 17,
   "metadata": {},
   "outputs": [
    {
     "name": "stdout",
     "output_type": "stream",
     "text": [
      "Accuracy:  0.8053097345132744\n",
      "Precision:  0.5217391304347826\n",
      "Recall:  0.35294117647058826\n",
      "F1-score:  0.4210526315789474\n"
     ]
    }
   ],
   "source": [
    "print(\"Accuracy: \",metrics.accuracy_score(y_test, y_predictions))\n",
    "print(\"Precision: \",metrics.precision_score(y_test, y_predictions))\n",
    "print(\"Recall: \",metrics.recall_score(y_test, y_predictions))\n",
    "print(\"F1-score: \",metrics.f1_score(y_test, y_predictions))"
   ]
  },
  {
   "cell_type": "code",
   "execution_count": null,
   "metadata": {},
   "outputs": [],
   "source": []
  }
 ],
 "metadata": {
  "kernelspec": {
   "display_name": "Python 3",
   "language": "python",
   "name": "python3"
  },
  "language_info": {
   "codemirror_mode": {
    "name": "ipython",
    "version": 3
   },
   "file_extension": ".py",
   "mimetype": "text/x-python",
   "name": "python",
   "nbconvert_exporter": "python",
   "pygments_lexer": "ipython3",
   "version": "3.6.4"
  }
 },
 "nbformat": 4,
 "nbformat_minor": 2
}
