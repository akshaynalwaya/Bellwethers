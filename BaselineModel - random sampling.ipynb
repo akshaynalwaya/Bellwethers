{
 "cells": [
  {
   "cell_type": "code",
   "execution_count": 1,
   "metadata": {},
   "outputs": [
    {
     "name": "stderr",
     "output_type": "stream",
     "text": [
      "C:\\Users\\USAKNAL\\AppData\\Local\\Continuum\\anaconda3\\lib\\site-packages\\sklearn\\ensemble\\weight_boosting.py:29: DeprecationWarning: numpy.core.umath_tests is an internal NumPy module and should not be imported. It will be removed in a future NumPy release.\n",
      "  from numpy.core.umath_tests import inner1d\n"
     ]
    }
   ],
   "source": [
    "import os, random\n",
    "import numpy as np\n",
    "import pandas as pd\n",
    "from sklearn.ensemble import RandomForestClassifier\n",
    "from sklearn.datasets import make_classification\n",
    "from sklearn.model_selection import train_test_split\n",
    "from sklearn import metrics\n",
    "from sklearn.metrics import confusion_matrix\n",
    "\n",
    "random.seed(10)"
   ]
  },
  {
   "cell_type": "code",
   "execution_count": 2,
   "metadata": {},
   "outputs": [],
   "source": [
    "os.getcwd()\n",
    "data_path = \"/defects/src/data/Jureczko/collated_data/\"\n",
    "os.chdir(os.getcwd() + data_path)"
   ]
  },
  {
   "cell_type": "code",
   "execution_count": 4,
   "metadata": {},
   "outputs": [
    {
     "name": "stdout",
     "output_type": "stream",
     "text": [
      "   $wmc  $dit  $noc  $cbo  $rfc  $lcom  $ca  $ce  $npm    $lcom3  ...    $dam  \\\n",
      "0    11     4     2    14    42     29    2   12     5  0.725000  ...     1.0   \n",
      "1    14     1     1     8    32     49    4    4    12  0.835165  ...     1.0   \n",
      "2     3     2     0     1     9      0    0    1     1  0.000000  ...     1.0   \n",
      "3    12     3     0    12    37     32    0   12    12  0.858586  ...     1.0   \n",
      "4     6     3     0     4    21      1    0    4     6  0.700000  ...     1.0   \n",
      "\n",
      "   $moa      $mfa      $cam  $ic  $cbm       $amc  $max_cc  $avg_cc  $<bug  \n",
      "0     1  0.885057  0.232323    3     4  34.545455        3   1.2727      0  \n",
      "1     0  0.000000  0.307692    0     0  16.857143        6   1.6429      1  \n",
      "2     1  0.714286  0.666667    1     1  17.333333        1   0.6667      0  \n",
      "3     1  0.770833  0.458333    0     0  24.083333        3   1.4167      0  \n",
      "4     0  0.880952  0.416667    2     2  21.000000        1   0.8333      0  \n",
      "\n",
      "[5 rows x 21 columns]\n"
     ]
    }
   ],
   "source": [
    "data = pd.read_csv(\"ant_merged.csv\")\n",
    "print(data.head())\n",
    "X = data.loc[:,data.columns!='$<bug']\n",
    "y = data.loc[:,data.columns=='$<bug']"
   ]
  },
  {
   "cell_type": "code",
   "execution_count": 4,
   "metadata": {},
   "outputs": [
    {
     "name": "stdout",
     "output_type": "stream",
     "text": [
      "X dim:  (1692, 20)\n",
      "Y dim:  (1692, 1)\n"
     ]
    }
   ],
   "source": [
    "print(\"X dim: \",X.shape)\n",
    "print(\"Y dim: \",y.shape)"
   ]
  },
  {
   "cell_type": "code",
   "execution_count": 3,
   "metadata": {},
   "outputs": [
    {
     "name": "stdout",
     "output_type": "stream",
     "text": [
      "List of projects: ['ant', 'camel', 'ivy', 'jedit', 'log4j', 'lucene', 'poi', 'velocity', 'xalan', 'xerces']\n"
     ]
    }
   ],
   "source": [
    "projList = os.listdir()\n",
    "projs = [p.split('_')[0] for p in projList]\n",
    "print(\"List of projects:\",projs)"
   ]
  },
  {
   "cell_type": "code",
   "execution_count": 6,
   "metadata": {},
   "outputs": [],
   "source": [
    "# X_train, X_test, y_train, y_test = train_test_split(X, y, test_size=0.2,random_state=42)\n",
    "# print(\"X_train dim: \", X_train.shape)\n",
    "# print(\"X_test dim: \", X_test.shape)\n",
    "# print(\"y_train dim: \", y_train.shape)\n",
    "# print(\"y_test dim: \", y_test.shape)"
   ]
  },
  {
   "cell_type": "code",
   "execution_count": 7,
   "metadata": {
    "scrolled": true
   },
   "outputs": [
    {
     "name": "stdout",
     "output_type": "stream",
     "text": [
      "\n",
      "Iteration  0\n",
      "Model trained on ant\n",
      "Test Project: camel, G-Score 0.08835095404969213\n",
      "Model trained on ant\n",
      "Test Project: ivy, G-Score 0.3852964055959598\n",
      "Model trained on ant\n",
      "Test Project: jedit, G-Score 0.5697610326181756\n",
      "Model trained on ant\n",
      "Test Project: log4j, G-Score 0.12940678943523895\n",
      "Model trained on ant\n",
      "Test Project: lucene, G-Score 0.18987034429174962\n",
      "Model trained on ant\n",
      "Test Project: poi, G-Score 0.13679346636491244\n",
      "Model trained on ant\n",
      "Test Project: velocity, G-Score 0.0834588168138022\n",
      "Model trained on ant\n",
      "Test Project: xalan, G-Score 0.23368653183798466\n",
      "Model trained on ant\n",
      "Test Project: xerces, G-Score 0.21223579849946408\n",
      "\n",
      "Iteration  1\n",
      "Model trained on camel\n",
      "Test Project: ant, G-Score 0.39825802069599264\n",
      "Model trained on camel\n",
      "Test Project: ivy, G-Score 0.38618866354144993\n",
      "Model trained on camel\n",
      "Test Project: jedit, G-Score 0.5154522633950094\n",
      "Model trained on camel\n",
      "Test Project: log4j, G-Score 0.24848891873740764\n",
      "Model trained on camel\n",
      "Test Project: lucene, G-Score 0.2356973762083251\n",
      "Model trained on camel\n",
      "Test Project: poi, G-Score 0.20685190541686585\n",
      "Model trained on camel\n",
      "Test Project: velocity, G-Score 0.16891504566820803\n",
      "Model trained on camel\n",
      "Test Project: xalan, G-Score 0.2562096659476316\n",
      "Model trained on camel\n",
      "Test Project: xerces, G-Score 0.23921461396653468\n",
      "\n",
      "Iteration  2\n",
      "Model trained on ivy\n",
      "Test Project: ant, G-Score 0.222954441712473\n",
      "Model trained on ivy\n",
      "Test Project: camel, G-Score 0.0349555387274778\n",
      "Model trained on ivy\n",
      "Test Project: jedit, G-Score 0.29101592138248344\n",
      "Model trained on ivy\n",
      "Test Project: log4j, G-Score 0.037732062217762166\n",
      "Model trained on ivy\n",
      "Test Project: lucene, G-Score 0.11186191036059898\n",
      "Model trained on ivy\n",
      "Test Project: poi, G-Score 0.07613766012448911\n",
      "Model trained on ivy\n",
      "Test Project: velocity, G-Score 0.06327934500327102\n",
      "Model trained on ivy\n",
      "Test Project: xalan, G-Score 0.13497467312290887\n",
      "Model trained on ivy\n",
      "Test Project: xerces, G-Score 0.1495664622821449\n",
      "\n",
      "Iteration  3\n",
      "Model trained on jedit\n",
      "Test Project: ant, G-Score 0.14310457934653908\n",
      "Model trained on jedit\n",
      "Test Project: camel, G-Score 0.045214623496599646\n",
      "Model trained on jedit\n",
      "Test Project: ivy, G-Score 0.11102559168751203\n",
      "Model trained on jedit\n",
      "Test Project: log4j, G-Score 0.007662835249042145\n",
      "Model trained on jedit\n",
      "Test Project: lucene, G-Score 0.00909090909090909\n",
      "Model trained on jedit\n",
      "Test Project: poi, G-Score 0.022377622377622378\n",
      "Model trained on jedit\n",
      "Test Project: velocity, G-Score 0.016216216216216214\n",
      "Model trained on jedit\n",
      "Test Project: xalan, G-Score 0.0570025452052139\n",
      "Model trained on jedit\n",
      "Test Project: xerces, G-Score 0.027148199986233166\n",
      "\n",
      "Iteration  4\n",
      "Model trained on log4j\n",
      "Test Project: ant, G-Score 0.2626942175236265\n",
      "Model trained on log4j\n",
      "Test Project: camel, G-Score 0.3346035001982972\n",
      "Model trained on log4j\n",
      "Test Project: ivy, G-Score 0.21791008798360853\n",
      "Model trained on log4j\n",
      "Test Project: jedit, G-Score 0.23252318337380973\n",
      "Model trained on log4j\n",
      "Test Project: lucene, G-Score 0.3511527292123512\n",
      "Model trained on log4j\n",
      "Test Project: poi, G-Score 0.3006778775988595\n",
      "Model trained on log4j\n",
      "Test Project: velocity, G-Score 0.3639104144131363\n",
      "Model trained on log4j\n",
      "Test Project: xalan, G-Score 0.38183528069015915\n",
      "Model trained on log4j\n",
      "Test Project: xerces, G-Score 0.4844642342634517\n",
      "\n",
      "Iteration  5\n",
      "Model trained on lucene\n",
      "Test Project: ant, G-Score 0.4677831862057586\n",
      "Model trained on lucene\n",
      "Test Project: camel, G-Score 0.5228046737261687\n",
      "Model trained on lucene\n",
      "Test Project: ivy, G-Score 0.5386842904182527\n",
      "Model trained on lucene\n",
      "Test Project: jedit, G-Score 0.49114940968923876\n",
      "Model trained on lucene\n",
      "Test Project: log4j, G-Score 0.6432078559738135\n",
      "Model trained on lucene\n",
      "Test Project: poi, G-Score 0.566516658903793\n",
      "Model trained on lucene\n",
      "Test Project: velocity, G-Score 0.5649495983482832\n",
      "Model trained on lucene\n",
      "Test Project: xalan, G-Score 0.46605104337016645\n",
      "Model trained on lucene\n",
      "Test Project: xerces, G-Score 0.5537618778020902\n",
      "\n",
      "Iteration  6\n",
      "Model trained on poi\n",
      "Test Project: ant, G-Score 0.6446086810584353\n",
      "Model trained on poi\n",
      "Test Project: camel, G-Score 0.5607594586366278\n",
      "Model trained on poi\n",
      "Test Project: ivy, G-Score 0.6393083702913603\n",
      "Model trained on poi\n",
      "Test Project: jedit, G-Score 0.6151460542307531\n",
      "Model trained on poi\n",
      "Test Project: log4j, G-Score 0.6242026468282637\n",
      "Model trained on poi\n",
      "Test Project: lucene, G-Score 0.6350889262084455\n",
      "Model trained on poi\n",
      "Test Project: velocity, G-Score 0.5139445445499287\n",
      "Model trained on poi\n",
      "Test Project: xalan, G-Score 0.5480171877891088\n",
      "Model trained on poi\n",
      "Test Project: xerces, G-Score 0.544535629054393\n",
      "\n",
      "Iteration  7\n",
      "Model trained on velocity\n",
      "Test Project: ant, G-Score 0.5482199823329051\n",
      "Model trained on velocity\n",
      "Test Project: camel, G-Score 0.4969101033184203\n",
      "Model trained on velocity\n",
      "Test Project: ivy, G-Score 0.4505885141006398\n",
      "Model trained on velocity\n",
      "Test Project: jedit, G-Score 0.45091755169437464\n",
      "Model trained on velocity\n",
      "Test Project: log4j, G-Score 0.5060852299886017\n",
      "Model trained on velocity\n",
      "Test Project: lucene, G-Score 0.48596412661748406\n",
      "Model trained on velocity\n",
      "Test Project: poi, G-Score 0.4201631689918616\n",
      "Model trained on velocity\n",
      "Test Project: xalan, G-Score 0.49132786789760313\n",
      "Model trained on velocity\n",
      "Test Project: xerces, G-Score 0.5411674660394592\n",
      "\n",
      "Iteration  8\n",
      "Model trained on xalan\n",
      "Test Project: ant, G-Score 0.6020615738651173\n",
      "Model trained on xalan\n",
      "Test Project: camel, G-Score 0.5336461229644096\n",
      "Model trained on xalan\n",
      "Test Project: ivy, G-Score 0.592330355999115\n",
      "Model trained on xalan\n",
      "Test Project: jedit, G-Score 0.48883818553366826\n",
      "Model trained on xalan\n",
      "Test Project: log4j, G-Score 0.5864298084672234\n",
      "Model trained on xalan\n",
      "Test Project: lucene, G-Score 0.567193675889328\n",
      "Model trained on xalan\n",
      "Test Project: poi, G-Score 0.5740239373899664\n",
      "Model trained on xalan\n",
      "Test Project: velocity, G-Score 0.5330727600721588\n",
      "Model trained on xalan\n",
      "Test Project: xerces, G-Score 0.5692325405049169\n",
      "\n",
      "Iteration  9\n",
      "Model trained on xerces\n",
      "Test Project: ant, G-Score 0.40084970309529294\n",
      "Model trained on xerces\n",
      "Test Project: camel, G-Score 0.3477568927695815\n",
      "Model trained on xerces\n",
      "Test Project: ivy, G-Score 0.423056949974035\n",
      "Model trained on xerces\n",
      "Test Project: jedit, G-Score 0.4000486214448019\n",
      "Model trained on xerces\n",
      "Test Project: log4j, G-Score 0.5562471746009667\n",
      "Model trained on xerces\n",
      "Test Project: lucene, G-Score 0.5732971211298209\n",
      "Model trained on xerces\n",
      "Test Project: poi, G-Score 0.4644927087845224\n",
      "Model trained on xerces\n",
      "Test Project: velocity, G-Score 0.49111276269957116\n",
      "Model trained on xerces\n",
      "Test Project: xalan, G-Score 0.4056611109480912\n"
     ]
    }
   ],
   "source": [
    "for i in range(len(projs)):\n",
    "    print(\"\\nIteration \",i)\n",
    "    trainData = pd.read_csv(projList[i])\n",
    "    #print(\"train data: \", projList[i], projs[i])\n",
    "    #print(trainData.head())\n",
    "    X_train = trainData.loc[:,trainData.columns!='$<bug']\n",
    "    y_train = trainData.loc[:,trainData.columns=='$<bug']\n",
    "    for j in range(len(projs)):\n",
    "        if (i != j):\n",
    "            testData = pd.read_csv(projList[j])\n",
    "            #print(\"test data: \", projList[j], projs[j])\n",
    "            #print(testData.head())\n",
    "            X_test = testData.loc[:, testData.columns!='$<bug']\n",
    "            y_test = testData.loc[:, testData.columns=='$<bug']\n",
    "            clf = RandomForestClassifier(n_estimators=1000, n_jobs=1)\n",
    "            clf.fit(X_train, y_train.values.ravel())\n",
    "            y_pred = clf.predict(X_test)\n",
    "            cm = confusion_matrix(y_test, y_pred)\n",
    "            #print(\"Sum: \",sum(y_pred))\n",
    "            #print(\"Confusion Matrix: \",cm)\n",
    "            #print(\"True Positive: \", cm[1][1])\n",
    "            #print(\"False Positive: \", cm[0][1])\n",
    "            #print(\"True Negative: \", cm[0][0])\n",
    "            #print(\"False Negative: \", cm[1][0])\n",
    "            #pd = tp/(tp+fn)\n",
    "            recall = cm[1][1]/(cm[1][1] + cm[1][0])\n",
    "            #pf = fp/(fp+tn)\n",
    "            pf = cm[0][1]/(cm[0][1] + cm[0][0])\n",
    "            \n",
    "            g = 2/((1/recall) + (1/(1-pf)))\n",
    "            \n",
    "            print(\"Model trained on\",projs[i])\n",
    "            #print(\"Project: {}, Accuracy: {}, Precision: {}\".format(projs[j],metrics.accuracy_score(y_test, y_pred),\n",
    "            #                                                       metrics.precision_score(y_test, y_pred)))\n",
    "            print(\"Test Project: {}, G-Score {}\".format(projs[j], g))\n",
    "            "
   ]
  },
  {
   "cell_type": "code",
   "execution_count": null,
   "metadata": {},
   "outputs": [],
   "source": []
  },
  {
   "cell_type": "code",
   "execution_count": null,
   "metadata": {},
   "outputs": [],
   "source": []
  },
  {
   "cell_type": "markdown",
   "metadata": {},
   "source": [
    "### Training a random forest classifier"
   ]
  },
  {
   "cell_type": "code",
   "execution_count": 15,
   "metadata": {},
   "outputs": [
    {
     "name": "stderr",
     "output_type": "stream",
     "text": [
      "C:\\Users\\USAKNAL\\AppData\\Local\\Continuum\\anaconda3\\lib\\site-packages\\ipykernel_launcher.py:2: DataConversionWarning: A column-vector y was passed when a 1d array was expected. Please change the shape of y to (n_samples,), for example using ravel().\n",
      "  \n"
     ]
    },
    {
     "data": {
      "text/plain": [
       "RandomForestClassifier(bootstrap=True, class_weight=None, criterion='gini',\n",
       "            max_depth=None, max_features='auto', max_leaf_nodes=None,\n",
       "            min_impurity_decrease=0.0, min_impurity_split=None,\n",
       "            min_samples_leaf=1, min_samples_split=2,\n",
       "            min_weight_fraction_leaf=0.0, n_estimators=1000, n_jobs=1,\n",
       "            oob_score=False, random_state=None, verbose=0,\n",
       "            warm_start=False)"
      ]
     },
     "execution_count": 15,
     "metadata": {},
     "output_type": "execute_result"
    }
   ],
   "source": [
    "clf = RandomForestClassifier(n_estimators=1000, n_jobs=1)\n",
    "clf.fit(X_train, y_train)"
   ]
  },
  {
   "cell_type": "code",
   "execution_count": 16,
   "metadata": {},
   "outputs": [],
   "source": [
    "y_predictions = clf.predict(X_test)"
   ]
  },
  {
   "cell_type": "code",
   "execution_count": 17,
   "metadata": {},
   "outputs": [
    {
     "name": "stdout",
     "output_type": "stream",
     "text": [
      "Accuracy:  0.8053097345132744\n",
      "Precision:  0.5217391304347826\n",
      "Recall:  0.35294117647058826\n",
      "F1-score:  0.4210526315789474\n"
     ]
    }
   ],
   "source": [
    "print(\"Accuracy: \",metrics.accuracy_score(y_test, y_predictions))\n",
    "print(\"Precision: \",metrics.precision_score(y_test, y_predictions))\n",
    "print(\"Recall: \",metrics.recall_score(y_test, y_predictions))\n",
    "print(\"F1-score: \",metrics.f1_score(y_test, y_predictions))"
   ]
  },
  {
   "cell_type": "code",
   "execution_count": null,
   "metadata": {},
   "outputs": [],
   "source": []
  }
 ],
 "metadata": {
  "kernelspec": {
   "display_name": "Python 3",
   "language": "python",
   "name": "python3"
  },
  "language_info": {
   "codemirror_mode": {
    "name": "ipython",
    "version": 3
   },
   "file_extension": ".py",
   "mimetype": "text/x-python",
   "name": "python",
   "nbconvert_exporter": "python",
   "pygments_lexer": "ipython3",
   "version": "3.6.4"
  }
 },
 "nbformat": 4,
 "nbformat_minor": 2
}
